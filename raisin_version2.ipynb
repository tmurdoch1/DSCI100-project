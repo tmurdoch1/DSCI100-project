{
 "cells": [
  {
   "cell_type": "markdown",
   "id": "e4404fdd-508f-4543-b0d3-f88272aaec75",
   "metadata": {},
   "source": [
    "# DSCI 100 Project - Group 12\n",
    "Authors:  \n",
    "\n",
    "Tia Murdoch 719191378\n",
    "\n",
    "Sam Wang 70602008\n",
    "\n",
    "Hanna Ross 40955320\n",
    "\n",
    "Maan Grover 62953260"
   ]
  },
  {
   "cell_type": "markdown",
   "id": "3a203d6a-857e-43ed-8380-9e1b9de275cb",
   "metadata": {},
   "source": [
    "# Introduction\n",
    "\n",
    "Raisins are dried grapes and they are eaten all over the world. The small dehydrated fruit can be eaten on its own or is often used in cooking and baking. Raisins will obtain their primary differences from the type of grape used to produce them, as well as the drying method.\n",
    "\n",
    "The chosen dataset was created by processing images of raisins and taking measurements of morphological features (area, convex area, major axis length, minor axis length, perimeter, eccentricity, and extent) using the number of pixels in the image as a meaurement. Then using three different types of artificial intelligence, each raisin was classified as either Kecimen or Besni, both of which are popular in Turkey.  \n",
    "\n",
    "Besni raisins are produced from the Sultana grape, and are characterized by their small, oval shape and light brown color. The Kecimen raisins are made from Black Corinth grapes. They are dark brown, round, and smooth. They are also generally smaller than Besni raisins.\n",
    "\n",
    "This project will build and assess a model which classifies observations into one of the two species of raisins based on the measurements taken. We expect the observations with larger measurements to be classified as Besni and the others to be marked as Kecimen. \n",
    "\n"
   ]
  },
  {
   "cell_type": "markdown",
   "id": "81391671-6eb4-4b72-a5e0-c7e968b11556",
   "metadata": {},
   "source": [
    "# Methods & Results\n",
    "This study use k-nn classification method to classify type of raisin.\n",
    "\n",
    "Since we changed our dataset after proposal submission, we will do a more detailed preliminary exploratory data analysis first.\n",
    "Then we will determine which variables have the strongest relationships to determine different types of raisin, and then set them as the predictors.\n",
    "\n",
    "Steps of k-nn Classification model building (exploratory data analysis):\n",
    "\n",
    "1. Create Recipe\n",
    "\n",
    "2. Cross-Validate the data\n",
    "\n",
    "3. Workflow and Fit\n",
    "\n",
    "4. Use our classifier to predict the testing data\n",
    "\n",
    "5. Evaluate the accuracy of our model\n",
    "\n",
    "6. Create visualizations that compare true model and trained model"
   ]
  },
  {
   "cell_type": "markdown",
   "id": "e012dbb5-58bc-4ad1-ac91-cfcd6bee6b41",
   "metadata": {},
   "source": [
    "## Load Data"
   ]
  },
  {
   "cell_type": "code",
   "execution_count": 42,
   "id": "ce971dc6-4c2b-410f-a0f0-0e3e91787dc0",
   "metadata": {},
   "outputs": [],
   "source": [
    "#load library\n",
    "library(tidyverse)\n",
    "library(tidymodels)\n",
    "library(repr)\n",
    "library(readxl)\n",
    "library(GGally)\n",
    "library(digest)\n",
    "library(cowplot)\n",
    "library(gridExtra)\n",
    "#set seed\n",
    "set.seed(123)"
   ]
  },
  {
   "cell_type": "code",
   "execution_count": 24,
   "id": "291a5935-651f-45a6-ac10-761c7781566a",
   "metadata": {},
   "outputs": [
    {
     "name": "stderr",
     "output_type": "stream",
     "text": [
      "\u001b[1mRows: \u001b[22m\u001b[34m900\u001b[39m \u001b[1mColumns: \u001b[22m\u001b[34m8\u001b[39m\n",
      "\u001b[36m──\u001b[39m \u001b[1mColumn specification\u001b[22m \u001b[36m────────────────────────────────────────────────────────\u001b[39m\n",
      "\u001b[1mDelimiter:\u001b[22m \",\"\n",
      "\u001b[31mchr\u001b[39m (1): Class\n",
      "\u001b[32mdbl\u001b[39m (7): Area, MajorAxisLength, MinorAxisLength, Eccentricity, ConvexArea, E...\n",
      "\n",
      "\u001b[36mℹ\u001b[39m Use `spec()` to retrieve the full column specification for this data.\n",
      "\u001b[36mℹ\u001b[39m Specify the column types or set `show_col_types = FALSE` to quiet this message.\n"
     ]
    },
    {
     "name": "stdout",
     "output_type": "stream",
     "text": [
      "Rows: 900\n",
      "Columns: 8\n",
      "$ Area            \u001b[3m\u001b[90m<dbl>\u001b[39m\u001b[23m 87524, 75166, 90856, 45928, 79408, 49242, 42492, 60952…\n",
      "$ MajorAxisLength \u001b[3m\u001b[90m<dbl>\u001b[39m\u001b[23m 442.2460, 406.6907, 442.2670, 286.5406, 352.1908, 318.…\n",
      "$ MinorAxisLength \u001b[3m\u001b[90m<dbl>\u001b[39m\u001b[23m 253.2912, 243.0324, 266.3283, 208.7600, 290.8275, 200.…\n",
      "$ Eccentricity    \u001b[3m\u001b[90m<dbl>\u001b[39m\u001b[23m 0.8197384, 0.8018052, 0.7983536, 0.6849892, 0.5640113,…\n",
      "$ ConvexArea      \u001b[3m\u001b[90m<dbl>\u001b[39m\u001b[23m 90546, 78789, 93717, 47336, 81463, 51368, 43904, 62329…\n",
      "$ Extent          \u001b[3m\u001b[90m<dbl>\u001b[39m\u001b[23m 0.7586506, 0.6841296, 0.6376128, 0.6995994, 0.7927719,…\n",
      "$ Perimeter       \u001b[3m\u001b[90m<dbl>\u001b[39m\u001b[23m 1184.040, 1121.786, 1208.575, 844.162, 1073.251, 881.8…\n",
      "$ Class           \u001b[3m\u001b[90m<chr>\u001b[39m\u001b[23m \"Kecimen\", \"Kecimen\", \"Kecimen\", \"Kecimen\", \"Kecimen\",…\n"
     ]
    }
   ],
   "source": [
    "#read data set\n",
    "raisin <- read_csv(\"https://raw.githubusercontent.com/tmurdoch1/DSCI100-project/main/Raisin_Dataset.csv\")\n",
    "#print data\n",
    "glimpse(raisin)"
   ]
  },
  {
   "cell_type": "markdown",
   "id": "4a18b75c-356e-4a44-9110-eb22fb0540bf",
   "metadata": {},
   "source": [
    "## Wrangle and Clean the data"
   ]
  },
  {
   "cell_type": "markdown",
   "id": "04ce28dc-9c01-4c14-b14c-0968937a6c21",
   "metadata": {},
   "source": [
    "The column names in the data set were already human-readable, thus they did not need to be renamed. Furthermore, the data was already in a tidy format - each column is a single variable, each row has a single observation and each cell is a single value, meaning that there was not a large amount of data wrangling to carry out. The only operation that was carried out is the transformation of the `Class` column from chr to fct format so that it could be used later on in the creation of the classification model. \n"
   ]
  },
  {
   "cell_type": "code",
   "execution_count": 25,
   "id": "edb2e393-d9b0-4125-8421-b445de6f14cf",
   "metadata": {},
   "outputs": [
    {
     "data": {
      "text/html": [
       "<table class=\"dataframe\">\n",
       "<caption>A tibble: 5 × 8</caption>\n",
       "<thead>\n",
       "\t<tr><th scope=col>Area</th><th scope=col>MajorAxisLength</th><th scope=col>MinorAxisLength</th><th scope=col>Eccentricity</th><th scope=col>ConvexArea</th><th scope=col>Extent</th><th scope=col>Perimeter</th><th scope=col>Class</th></tr>\n",
       "\t<tr><th scope=col>&lt;dbl&gt;</th><th scope=col>&lt;dbl&gt;</th><th scope=col>&lt;dbl&gt;</th><th scope=col>&lt;dbl&gt;</th><th scope=col>&lt;dbl&gt;</th><th scope=col>&lt;dbl&gt;</th><th scope=col>&lt;dbl&gt;</th><th scope=col>&lt;fct&gt;</th></tr>\n",
       "</thead>\n",
       "<tbody>\n",
       "\t<tr><td>87524</td><td>442.2460</td><td>253.2912</td><td>0.8197384</td><td>90546</td><td>0.7586506</td><td>1184.040</td><td>Kecimen</td></tr>\n",
       "\t<tr><td>75166</td><td>406.6907</td><td>243.0324</td><td>0.8018052</td><td>78789</td><td>0.6841296</td><td>1121.786</td><td>Kecimen</td></tr>\n",
       "\t<tr><td>90856</td><td>442.2670</td><td>266.3283</td><td>0.7983536</td><td>93717</td><td>0.6376128</td><td>1208.575</td><td>Kecimen</td></tr>\n",
       "\t<tr><td>45928</td><td>286.5406</td><td>208.7600</td><td>0.6849892</td><td>47336</td><td>0.6995994</td><td> 844.162</td><td>Kecimen</td></tr>\n",
       "\t<tr><td>79408</td><td>352.1908</td><td>290.8275</td><td>0.5640113</td><td>81463</td><td>0.7927719</td><td>1073.251</td><td>Kecimen</td></tr>\n",
       "</tbody>\n",
       "</table>\n"
      ],
      "text/latex": [
       "A tibble: 5 × 8\n",
       "\\begin{tabular}{llllllll}\n",
       " Area & MajorAxisLength & MinorAxisLength & Eccentricity & ConvexArea & Extent & Perimeter & Class\\\\\n",
       " <dbl> & <dbl> & <dbl> & <dbl> & <dbl> & <dbl> & <dbl> & <fct>\\\\\n",
       "\\hline\n",
       "\t 87524 & 442.2460 & 253.2912 & 0.8197384 & 90546 & 0.7586506 & 1184.040 & Kecimen\\\\\n",
       "\t 75166 & 406.6907 & 243.0324 & 0.8018052 & 78789 & 0.6841296 & 1121.786 & Kecimen\\\\\n",
       "\t 90856 & 442.2670 & 266.3283 & 0.7983536 & 93717 & 0.6376128 & 1208.575 & Kecimen\\\\\n",
       "\t 45928 & 286.5406 & 208.7600 & 0.6849892 & 47336 & 0.6995994 &  844.162 & Kecimen\\\\\n",
       "\t 79408 & 352.1908 & 290.8275 & 0.5640113 & 81463 & 0.7927719 & 1073.251 & Kecimen\\\\\n",
       "\\end{tabular}\n"
      ],
      "text/markdown": [
       "\n",
       "A tibble: 5 × 8\n",
       "\n",
       "| Area &lt;dbl&gt; | MajorAxisLength &lt;dbl&gt; | MinorAxisLength &lt;dbl&gt; | Eccentricity &lt;dbl&gt; | ConvexArea &lt;dbl&gt; | Extent &lt;dbl&gt; | Perimeter &lt;dbl&gt; | Class &lt;fct&gt; |\n",
       "|---|---|---|---|---|---|---|---|\n",
       "| 87524 | 442.2460 | 253.2912 | 0.8197384 | 90546 | 0.7586506 | 1184.040 | Kecimen |\n",
       "| 75166 | 406.6907 | 243.0324 | 0.8018052 | 78789 | 0.6841296 | 1121.786 | Kecimen |\n",
       "| 90856 | 442.2670 | 266.3283 | 0.7983536 | 93717 | 0.6376128 | 1208.575 | Kecimen |\n",
       "| 45928 | 286.5406 | 208.7600 | 0.6849892 | 47336 | 0.6995994 |  844.162 | Kecimen |\n",
       "| 79408 | 352.1908 | 290.8275 | 0.5640113 | 81463 | 0.7927719 | 1073.251 | Kecimen |\n",
       "\n"
      ],
      "text/plain": [
       "  Area  MajorAxisLength MinorAxisLength Eccentricity ConvexArea Extent   \n",
       "1 87524 442.2460        253.2912        0.8197384    90546      0.7586506\n",
       "2 75166 406.6907        243.0324        0.8018052    78789      0.6841296\n",
       "3 90856 442.2670        266.3283        0.7983536    93717      0.6376128\n",
       "4 45928 286.5406        208.7600        0.6849892    47336      0.6995994\n",
       "5 79408 352.1908        290.8275        0.5640113    81463      0.7927719\n",
       "  Perimeter Class  \n",
       "1 1184.040  Kecimen\n",
       "2 1121.786  Kecimen\n",
       "3 1208.575  Kecimen\n",
       "4  844.162  Kecimen\n",
       "5 1073.251  Kecimen"
      ]
     },
     "metadata": {},
     "output_type": "display_data"
    }
   ],
   "source": [
    "raisin <- mutate(raisin, Class = as_factor(Class))\n",
    "head(raisin, n=5)"
   ]
  },
  {
   "cell_type": "markdown",
   "id": "b1c45fe5-346f-40d9-95d3-a542f91942a0",
   "metadata": {},
   "source": [
    "The clean data is then split  into training and testing data with prop = 0.75, meaning that 75% of the data will be assigned to the training group. Note: the units of all measurements are number of pixels and will be omitted moving forward. "
   ]
  },
  {
   "cell_type": "code",
   "execution_count": 26,
   "id": "08007ef8-7f93-47dd-962e-bbcc26053cc3",
   "metadata": {},
   "outputs": [],
   "source": [
    "raisin_split <- initial_split(raisin, prop = .75, strata = Class)\n",
    "raisin_train <- training(raisin_split)\n",
    "raisin_test <- testing(raisin_split)"
   ]
  },
  {
   "cell_type": "markdown",
   "id": "32a253a3-516a-4d7e-b6bb-ff0c9f3dcaa3",
   "metadata": {},
   "source": [
    "## Summarize the data\n",
    "To give an overview of the training data:\n",
    "1) summarize the mean value for each predictors\n",
    "2) count the number of observation for each class\n",
    "3) find out number of missing rows\n",
    "4) check that our data is balanced\n"
   ]
  },
  {
   "cell_type": "code",
   "execution_count": 27,
   "id": "a52e005b-0057-4458-ae21-12551798468f",
   "metadata": {},
   "outputs": [
    {
     "data": {
      "text/html": [
       "<table class=\"dataframe\">\n",
       "<caption>A tibble: 2 × 9</caption>\n",
       "<thead>\n",
       "\t<tr><th scope=col>Class</th><th scope=col>Area_mean</th><th scope=col>MajorAxisLength_mean</th><th scope=col>MinorAxisLength_mean</th><th scope=col>Eccentricity_mean</th><th scope=col>ConvexArea_mean</th><th scope=col>Extent_mean</th><th scope=col>Perimeter_mean</th><th scope=col>observations</th></tr>\n",
       "\t<tr><th scope=col>&lt;fct&gt;</th><th scope=col>&lt;dbl&gt;</th><th scope=col>&lt;dbl&gt;</th><th scope=col>&lt;dbl&gt;</th><th scope=col>&lt;dbl&gt;</th><th scope=col>&lt;dbl&gt;</th><th scope=col>&lt;dbl&gt;</th><th scope=col>&lt;dbl&gt;</th><th scope=col>&lt;int&gt;</th></tr>\n",
       "</thead>\n",
       "<tbody>\n",
       "\t<tr><td>Kecimen</td><td> 63675.8</td><td>353.0746</td><td>230.3185</td><td>0.7403877</td><td> 65891.84</td><td>0.7084156</td><td> 984.3743</td><td>337</td></tr>\n",
       "\t<tr><td>Besni  </td><td>111275.6</td><td>508.0368</td><td>278.1775</td><td>0.8216353</td><td>115899.02</td><td>0.6882959</td><td>1345.4602</td><td>337</td></tr>\n",
       "</tbody>\n",
       "</table>\n"
      ],
      "text/latex": [
       "A tibble: 2 × 9\n",
       "\\begin{tabular}{lllllllll}\n",
       " Class & Area\\_mean & MajorAxisLength\\_mean & MinorAxisLength\\_mean & Eccentricity\\_mean & ConvexArea\\_mean & Extent\\_mean & Perimeter\\_mean & observations\\\\\n",
       " <fct> & <dbl> & <dbl> & <dbl> & <dbl> & <dbl> & <dbl> & <dbl> & <int>\\\\\n",
       "\\hline\n",
       "\t Kecimen &  63675.8 & 353.0746 & 230.3185 & 0.7403877 &  65891.84 & 0.7084156 &  984.3743 & 337\\\\\n",
       "\t Besni   & 111275.6 & 508.0368 & 278.1775 & 0.8216353 & 115899.02 & 0.6882959 & 1345.4602 & 337\\\\\n",
       "\\end{tabular}\n"
      ],
      "text/markdown": [
       "\n",
       "A tibble: 2 × 9\n",
       "\n",
       "| Class &lt;fct&gt; | Area_mean &lt;dbl&gt; | MajorAxisLength_mean &lt;dbl&gt; | MinorAxisLength_mean &lt;dbl&gt; | Eccentricity_mean &lt;dbl&gt; | ConvexArea_mean &lt;dbl&gt; | Extent_mean &lt;dbl&gt; | Perimeter_mean &lt;dbl&gt; | observations &lt;int&gt; |\n",
       "|---|---|---|---|---|---|---|---|---|\n",
       "| Kecimen |  63675.8 | 353.0746 | 230.3185 | 0.7403877 |  65891.84 | 0.7084156 |  984.3743 | 337 |\n",
       "| Besni   | 111275.6 | 508.0368 | 278.1775 | 0.8216353 | 115899.02 | 0.6882959 | 1345.4602 | 337 |\n",
       "\n"
      ],
      "text/plain": [
       "  Class   Area_mean MajorAxisLength_mean MinorAxisLength_mean Eccentricity_mean\n",
       "1 Kecimen  63675.8  353.0746             230.3185             0.7403877        \n",
       "2 Besni   111275.6  508.0368             278.1775             0.8216353        \n",
       "  ConvexArea_mean Extent_mean Perimeter_mean observations\n",
       "1  65891.84       0.7084156    984.3743      337         \n",
       "2 115899.02       0.6882959   1345.4602      337         "
      ]
     },
     "metadata": {},
     "output_type": "display_data"
    }
   ],
   "source": [
    "# 1&2)summarize mean and number of observations in a table\n",
    "raisin_summarize <- raisin_train |>\n",
    "    group_by(Class) |>\n",
    "    summarize(Area_mean = mean(Area), MajorAxisLength_mean = mean(MajorAxisLength), MinorAxisLength_mean = mean(MinorAxisLength),\n",
    "              Eccentricity_mean = mean(Eccentricity), ConvexArea_mean = mean(ConvexArea), Extent_mean = mean(Extent), \n",
    "                  Perimeter_mean = mean(Perimeter), observations = n())\n",
    "raisin_summarize"
   ]
  },
  {
   "cell_type": "code",
   "execution_count": 28,
   "id": "378f19ec-ec31-4df1-bf25-08daa8b1e760",
   "metadata": {},
   "outputs": [
    {
     "data": {
      "text/html": [
       "0"
      ],
      "text/latex": [
       "0"
      ],
      "text/markdown": [
       "0"
      ],
      "text/plain": [
       "[1] 0"
      ]
     },
     "metadata": {},
     "output_type": "display_data"
    }
   ],
   "source": [
    "# 3)find out number of missing row\n",
    "sum(is.na(raisin_train))"
   ]
  },
  {
   "cell_type": "markdown",
   "id": "5b91bc68-4fda-47f9-a338-d159c47d4b8d",
   "metadata": {},
   "source": [
    "There is no `na.` value in the data frame, which indicates there are not any missing rows."
   ]
  },
  {
   "cell_type": "code",
   "execution_count": 29,
   "id": "d77e55e8-f749-4180-b575-aa87afdd26ba",
   "metadata": {},
   "outputs": [
    {
     "data": {
      "text/html": [
       "<table class=\"dataframe\">\n",
       "<caption>A tibble: 2 × 3</caption>\n",
       "<thead>\n",
       "\t<tr><th scope=col>Class</th><th scope=col>n</th><th scope=col>percent</th></tr>\n",
       "\t<tr><th scope=col>&lt;fct&gt;</th><th scope=col>&lt;int&gt;</th><th scope=col>&lt;dbl&gt;</th></tr>\n",
       "</thead>\n",
       "<tbody>\n",
       "\t<tr><td>Kecimen</td><td>450</td><td>50</td></tr>\n",
       "\t<tr><td>Besni  </td><td>450</td><td>50</td></tr>\n",
       "</tbody>\n",
       "</table>\n"
      ],
      "text/latex": [
       "A tibble: 2 × 3\n",
       "\\begin{tabular}{lll}\n",
       " Class & n & percent\\\\\n",
       " <fct> & <int> & <dbl>\\\\\n",
       "\\hline\n",
       "\t Kecimen & 450 & 50\\\\\n",
       "\t Besni   & 450 & 50\\\\\n",
       "\\end{tabular}\n"
      ],
      "text/markdown": [
       "\n",
       "A tibble: 2 × 3\n",
       "\n",
       "| Class &lt;fct&gt; | n &lt;int&gt; | percent &lt;dbl&gt; |\n",
       "|---|---|---|\n",
       "| Kecimen | 450 | 50 |\n",
       "| Besni   | 450 | 50 |\n",
       "\n"
      ],
      "text/plain": [
       "  Class   n   percent\n",
       "1 Kecimen 450 50     \n",
       "2 Besni   450 50     "
      ]
     },
     "metadata": {},
     "output_type": "display_data"
    },
    {
     "data": {
      "text/html": [
       "<table class=\"dataframe\">\n",
       "<caption>A tibble: 2 × 3</caption>\n",
       "<thead>\n",
       "\t<tr><th scope=col>Class</th><th scope=col>n</th><th scope=col>percent</th></tr>\n",
       "\t<tr><th scope=col>&lt;fct&gt;</th><th scope=col>&lt;int&gt;</th><th scope=col>&lt;dbl&gt;</th></tr>\n",
       "</thead>\n",
       "<tbody>\n",
       "\t<tr><td>Kecimen</td><td>337</td><td>50</td></tr>\n",
       "\t<tr><td>Besni  </td><td>337</td><td>50</td></tr>\n",
       "</tbody>\n",
       "</table>\n"
      ],
      "text/latex": [
       "A tibble: 2 × 3\n",
       "\\begin{tabular}{lll}\n",
       " Class & n & percent\\\\\n",
       " <fct> & <int> & <dbl>\\\\\n",
       "\\hline\n",
       "\t Kecimen & 337 & 50\\\\\n",
       "\t Besni   & 337 & 50\\\\\n",
       "\\end{tabular}\n"
      ],
      "text/markdown": [
       "\n",
       "A tibble: 2 × 3\n",
       "\n",
       "| Class &lt;fct&gt; | n &lt;int&gt; | percent &lt;dbl&gt; |\n",
       "|---|---|---|\n",
       "| Kecimen | 337 | 50 |\n",
       "| Besni   | 337 | 50 |\n",
       "\n"
      ],
      "text/plain": [
       "  Class   n   percent\n",
       "1 Kecimen 337 50     \n",
       "2 Besni   337 50     "
      ]
     },
     "metadata": {},
     "output_type": "display_data"
    }
   ],
   "source": [
    "# 4)check the proportion of classes in both whole data set and training data set\n",
    "whole_raisin_proportions <- raisin |>\n",
    "                      group_by(Class) |>\n",
    "                      summarize(n = n()) |>\n",
    "                      mutate(percent = 100*n/nrow(raisin))\n",
    "whole_raisin_proportions\n",
    "\n",
    "raisin_proportions <- raisin_train |>\n",
    "                      group_by(Class) |>\n",
    "                      summarize(n = n()) |>\n",
    "                      mutate(percent = 100*n/nrow(raisin_train))\n",
    "raisin_proportions\n",
    "\n"
   ]
  },
  {
   "cell_type": "markdown",
   "id": "bb571023-15c5-4713-9629-49ad2c660367",
   "metadata": {},
   "source": [
    "As evidenced by the above tables (whole raisin proportions - upper tibble; training raisin proportions - lower tibble), the proportions of each class are balanced in both the whole data set and training data set. This simplifies our classification process to some extent due to the fact that we do not have a dominating class. When one class is over-represented, new observations are more likely to be deemed to be of the over-represented class. Altering the classifier to solve this problem is very complex, but if it were necessary, the step_upsample can be used to multiply the underrepresented class, thus balancing the classifier and improving accuracy. "
   ]
  },
  {
   "cell_type": "markdown",
   "id": "54d5e7d4-caf3-4479-9433-9167e65bd924",
   "metadata": {},
   "source": [
    "## Visualize the Data\n",
    "Now we find suitable predictors in our data by visualization."
   ]
  },
  {
   "cell_type": "code",
   "execution_count": 30,
   "id": "2cfed59a-fa1e-4cf4-9940-449f46310a93",
   "metadata": {},
   "outputs": [
    {
     "ename": "ERROR",
     "evalue": "Error in ggpairs(raisin_train): could not find function \"ggpairs\"\n",
     "output_type": "error",
     "traceback": [
      "Error in ggpairs(raisin_train): could not find function \"ggpairs\"\nTraceback:\n"
     ]
    }
   ],
   "source": [
    "#Use ggpairs function to look at relationship between different variables. \n",
    "ggpairs(raisin_train)\n",
    "options(repr.plot.width = 12, repr.plot.height = 12)"
   ]
  },
  {
   "cell_type": "markdown",
   "id": "d93bf1df-3f42-4c1e-b544-8cdc95d38db2",
   "metadata": {},
   "source": [
    "Figure 1: Matrix displaying the relationship between all seven characteristics present in the raisin dataset. "
   ]
  },
  {
   "cell_type": "markdown",
   "id": "da64ccce-208d-4c58-8b38-b6fdd26f4c94",
   "metadata": {},
   "source": [
    "The above plots were analyzed in two ways to determine which variables to choose for the classifier: (1) qualitatively to look at whether the variable resulted in linear plots when plotted against other variables and (2)quantitatively - all four chosen had a significant difference in values between each class, as evidenced by the whisker plots.\n",
    "The four chosen are:\n",
    "- Area\n",
    "- Major Axis Length\n",
    "- Convex area \n",
    "- Perimeter\n",
    "\n",
    "Those variables were then plotted against each other. "
   ]
  },
  {
   "cell_type": "code",
   "execution_count": 49,
   "id": "59cabacf-4ca2-460c-9842-9509389eb8b9",
   "metadata": {},
   "outputs": [],
   "source": [
    "plot_1 <- raisin_train |>\n",
    "    ggplot(aes(x = Area, y = MajorAxisLength, color = Class)) +\n",
    "    geom_point() +\n",
    "    labs(x = \"Area\", y = \"Major Axis Length\")\n",
    "\n",
    "plot_2 <- raisin_train |>\n",
    "    ggplot(aes(x = Area, y = Perimeter, color = Class)) +\n",
    "    geom_point() +\n",
    "    labs(x = \"Area\", y = \"Perimeter\", color = \"Class\")\n",
    "\n",
    "plot_3 <- raisin_train |>\n",
    "    ggplot(aes(x = Area, y = ConvexArea, color = Class)) +\n",
    "    geom_point() +\n",
    "    labs(x = \"Perimeter\", y = \"Convex Area\")\n",
    "\n",
    "plot_4 <- raisin_train |>\n",
    "    ggplot(aes(x = MajorAxisLength, y = ConvexArea, color = Class)) +\n",
    "    geom_point() +\n",
    "    labs(x = \"Major Axis Length\", y = \"Convex Area\", color = \"Class\")\n",
    "\n",
    "plot_5 <- raisin_train |>\n",
    "    ggplot(aes(x = MajorAxisLength, y = Perimeter, color = Class)) +\n",
    "    geom_point() +\n",
    "    labs(x = \"Major Axis Length\", y = \"Perimeter\")\n",
    "\n",
    "plot_6 <- raisin_train |>\n",
    "    ggplot(aes(x = ConvexArea, y = Perimeter, color = Class)) +\n",
    "    geom_point() +\n",
    "    labs(x = \"Convex Area\", y = \"Perimeter\", color = \"Class\")"
   ]
  },
  {
   "cell_type": "code",
   "execution_count": 32,
   "id": "58671b80-4b2c-4eff-bc3d-e502be82dbba",
   "metadata": {},
   "outputs": [
    {
     "ename": "ERROR",
     "evalue": "Error in plot_grid(plot_1, plot_2, plot_3, plot_4, plot_5, plot_6, labels = c(\"a\", : could not find function \"plot_grid\"\n",
     "output_type": "error",
     "traceback": [
      "Error in plot_grid(plot_1, plot_2, plot_3, plot_4, plot_5, plot_6, labels = c(\"a\", : could not find function \"plot_grid\"\nTraceback:\n"
     ]
    }
   ],
   "source": [
    "plot_grid(plot_1, plot_2, plot_3, plot_4,\n",
    "          plot_5, plot_6,\n",
    "          labels=c('a', 'b', 'c', 'd', 'e', 'f'), ncol = 2)\n",
    "options(repr.plot.width = 8, repr.plot.height = 10)"
   ]
  },
  {
   "cell_type": "markdown",
   "id": "ffdc610e-a923-4bab-9f59-193a65591b89",
   "metadata": {},
   "source": [
    "Figure 2: Relationship between physical characteristics of two classes of raisins, Kecimen and Besni. (a) Area vs. major axis length, (b) area vs. perimeter, (c) perimeter vs. convex area, (d) major axis length vs. convex area, (e) major axis length vs. perimeter and (f) convex area vs. perimeter. All plots display a strong, positive, linear relationship. "
   ]
  },
  {
   "cell_type": "markdown",
   "id": "661781b4-b8f5-47fd-938a-eaf8c24dbfe6",
   "metadata": {},
   "source": [
    "From the above plots, it is evident that there is a linear positive relationship between all pairings of the selected variables. As area increases, so does convex area, perimeter, and major axis length, as would be expected based on these types of measurements. Furthermore, Besni raisins appear to be generally larger than Kecimen raisins in all chosen characteristics, indicating that there is a consistent relationship between the raisins through all pairings. There is greater variation in the values of Besni raisins compared to Kecimen raisins and there is a single outlier of the Kecimen raisin. This outlier would likely be classified as Besni raisin by a classification algorithm. "
   ]
  },
  {
   "cell_type": "markdown",
   "id": "dd1287c2-47fb-478a-bc85-868bbe1a60ed",
   "metadata": {},
   "source": [
    "# Create k-nn Classification model"
   ]
  },
  {
   "cell_type": "markdown",
   "id": "529781b9-355c-4ed8-aeef-715733366bea",
   "metadata": {},
   "source": [
    "### 1. Create recipe"
   ]
  },
  {
   "cell_type": "code",
   "execution_count": 33,
   "id": "2c45d448-93d4-41b7-88d1-0bba0a5d8c40",
   "metadata": {},
   "outputs": [
    {
     "data": {
      "text/plain": [
       "Recipe\n",
       "\n",
       "Inputs:\n",
       "\n",
       "      role #variables\n",
       "   outcome          1\n",
       " predictor          4\n",
       "\n",
       "Operations:\n",
       "\n",
       "Scaling for all_predictors()\n",
       "Centering for all_predictors()"
      ]
     },
     "metadata": {},
     "output_type": "display_data"
    }
   ],
   "source": [
    "raisin_recipe <- recipe(Class ~ Area + MajorAxisLength + Perimeter + ConvexArea, data = raisin_train) |>\n",
    "  step_scale(all_predictors()) |>\n",
    "  step_center(all_predictors())\n",
    "raisin_recipe"
   ]
  },
  {
   "cell_type": "markdown",
   "id": "0543dd46-3c58-4b9a-9a9b-548170ac2751",
   "metadata": {},
   "source": [
    "### 2. Tuning Classifier by cross-validation"
   ]
  },
  {
   "cell_type": "code",
   "execution_count": 34,
   "id": "ba77d2b4-0533-4f74-b5fb-ee48c82b5db9",
   "metadata": {},
   "outputs": [],
   "source": [
    "#cross-validation\n",
    "raisin_vfold <- vfold_cv(raisin_train, v = 5, strata = Class)"
   ]
  },
  {
   "cell_type": "code",
   "execution_count": 35,
   "id": "633875cf-dd9d-4fa6-9ac7-555fa08a93ab",
   "metadata": {},
   "outputs": [],
   "source": [
    "#create model\n",
    "knn_spec <- nearest_neighbor(weight_func = \"rectangular\", \n",
    "                             neighbors = tune()) |>\n",
    "  set_engine(\"kknn\") |>\n",
    "  set_mode(\"classification\")"
   ]
  },
  {
   "cell_type": "code",
   "execution_count": 36,
   "id": "c55077b6-83e5-4868-9a9b-1967c6c8c83a",
   "metadata": {},
   "outputs": [
    {
     "ename": "ERROR",
     "evalue": "\u001b[1m\u001b[33mError\u001b[39m in \u001b[1m\u001b[1m`check_installs()`:\u001b[22m\n\u001b[33m!\u001b[39m Some package installs are required: \n\u001b[36m•\u001b[39m 'kknn', 'kknn'\n",
     "output_type": "error",
     "traceback": [
      "\u001b[1m\u001b[33mError\u001b[39m in \u001b[1m\u001b[1m`check_installs()`:\u001b[22m\n\u001b[33m!\u001b[39m Some package installs are required: \n\u001b[36m•\u001b[39m 'kknn', 'kknn'\nTraceback:\n",
      "1. collect_metrics(tune_grid(add_model(add_recipe(workflow(), raisin_recipe), \n .     knn_spec), resamples = raisin_vfold, grid = k_vals))",
      "2. tune_grid(add_model(add_recipe(workflow(), raisin_recipe), knn_spec), \n .     resamples = raisin_vfold, grid = k_vals)",
      "3. tune_grid.workflow(add_model(add_recipe(workflow(), raisin_recipe), \n .     knn_spec), resamples = raisin_vfold, grid = k_vals)",
      "4. tune_grid_workflow(object, resamples = resamples, grid = grid, \n .     metrics = metrics, pset = param_info, control = control)",
      "5. check_workflow(workflow, pset = pset)",
      "6. check_installs(mod)",
      "7. rlang::abort(c(\"Some package installs are required: \", paste0(\"'\", \n .     deps[!is_inst], \"'\", collapse = \", \")))",
      "8. signal_abort(cnd, .file)"
     ]
    }
   ],
   "source": [
    "k_vals <- tibble(neighbors = seq(from = 10, to = 30, by = 1))\n",
    "\n",
    "knn_results <- workflow() |>\n",
    "  add_recipe(raisin_recipe) |>\n",
    "  add_model(knn_spec) |>\n",
    "  tune_grid(resamples = raisin_vfold, grid = k_vals) |>\n",
    "  collect_metrics() \n",
    "#find accuracy\n",
    "accuracies <- knn_results |>\n",
    "  filter(.metric == \"accuracy\")\n",
    "accuracies"
   ]
  },
  {
   "cell_type": "code",
   "execution_count": 37,
   "id": "52680755-68b2-4d36-8318-c5faf6cb414f",
   "metadata": {},
   "outputs": [
    {
     "ename": "ERROR",
     "evalue": "Error in ggplot(accuracies, aes(x = neighbors, y = mean)): object 'accuracies' not found\n",
     "output_type": "error",
     "traceback": [
      "Error in ggplot(accuracies, aes(x = neighbors, y = mean)): object 'accuracies' not found\nTraceback:\n",
      "1. ggplot(accuracies, aes(x = neighbors, y = mean))"
     ]
    }
   ],
   "source": [
    "accuracy_vs_k <- ggplot(accuracies, aes(x = neighbors, y = mean)) +\n",
    "  geom_point() +\n",
    "  geom_line() +\n",
    "  labs(x = \"Neighbors\", y = \"Accuracy Estimate\") + \n",
    "  theme(text = element_text(size = 12))\n",
    "options(repr.plot.width = 10, repr.plot.height = 7)\n",
    "accuracy_vs_k"
   ]
  },
  {
   "cell_type": "markdown",
   "id": "e06c6cae-91b2-4b3b-89a3-5f78607279a6",
   "metadata": {},
   "source": [
    "Figure 3: Plot of the K value (number of neighbors) compared to the accuracy of the classifier model. "
   ]
  },
  {
   "cell_type": "markdown",
   "id": "f60af0e6-6c77-4465-a148-f7e2357c4dce",
   "metadata": {},
   "source": [
    "K values were explored from 10-100 (not shown) and it was determined that a K value somewhere between 10 and 30 would yield the most accurate prediction model. K values between 10 and 30, with values increasing by 1, were plotted against accuracy of the prediction model. From the plot it was determined that the K value of either 23 or 24 would be the most effective in creating an accurate model.  "
   ]
  },
  {
   "cell_type": "markdown",
   "id": "0595a36d-2a65-49b1-a0ee-cec60fcc673b",
   "metadata": {},
   "source": [
    "### 3. Create Model with Optimal K Value"
   ]
  },
  {
   "cell_type": "code",
   "execution_count": 38,
   "id": "84440a3f-40da-40d2-9d40-b71a4c24d9eb",
   "metadata": {},
   "outputs": [
    {
     "ename": "ERROR",
     "evalue": "\u001b[1m\u001b[33mError\u001b[39m in \u001b[1m\u001b[1m`check_installs()`:\u001b[22m\n\u001b[33m!\u001b[39m This engine requires some package installs: 'kknn'\n",
     "output_type": "error",
     "traceback": [
      "\u001b[1m\u001b[33mError\u001b[39m in \u001b[1m\u001b[1m`check_installs()`:\u001b[22m\n\u001b[33m!\u001b[39m This engine requires some package installs: 'kknn'\nTraceback:\n",
      "1. fit(add_model(add_recipe(workflow(), raisin_recipe), knn_spec), \n .     data = raisin_train)",
      "2. fit.workflow(add_model(add_recipe(workflow(), raisin_recipe), \n .     knn_spec), data = raisin_train)",
      "3. .fit_model(workflow, control)",
      "4. fit(action_model, workflow = workflow, control = control)",
      "5. fit.action_model(action_model, workflow = workflow, control = control)",
      "6. fit_from_xy(spec, mold, case_weights, control_parsnip)",
      "7. fit_xy(spec, x = mold$predictors, y = mold$outcomes, case_weights = case_weights, \n .     control = control_parsnip)",
      "8. fit_xy.model_spec(spec, x = mold$predictors, y = mold$outcomes, \n .     case_weights = case_weights, control = control_parsnip)",
      "9. check_installs(object)",
      "10. rlang::abort(glue::glue(\"This engine requires some package installs: \", \n  .     glue::glue_collapse(glue::glue(\"'{missing_pkg}'\"), sep = \", \")))",
      "11. signal_abort(cnd, .file)"
     ]
    }
   ],
   "source": [
    "#create model with best k\n",
    "knn_spec <- nearest_neighbor(weight_func = \"rectangular\", neighbors = 23) |>\n",
    "  set_engine(\"kknn\") |>\n",
    "  set_mode(\"classification\")\n",
    "\n",
    "#fit training data\n",
    "knn_fit <- workflow() |>\n",
    "  add_recipe(raisin_recipe) |>\n",
    "  add_model(knn_spec) |>\n",
    "  fit(data = raisin_train)\n",
    "knn_fit"
   ]
  },
  {
   "cell_type": "markdown",
   "id": "db495922-02e2-4253-bc18-5d4668a6695f",
   "metadata": {},
   "source": [
    "### 4. Predict and Check Accuracy"
   ]
  },
  {
   "cell_type": "code",
   "execution_count": 39,
   "id": "16977816-55e1-41d2-ac32-0f555e15e2c3",
   "metadata": {},
   "outputs": [
    {
     "ename": "ERROR",
     "evalue": "Error in predict(knn_fit, raisin_test): object 'knn_fit' not found\n",
     "output_type": "error",
     "traceback": [
      "Error in predict(knn_fit, raisin_test): object 'knn_fit' not found\nTraceback:\n",
      "1. bind_cols(predict(knn_fit, raisin_test), raisin_test)",
      "2. list2(...)",
      "3. predict(knn_fit, raisin_test)"
     ]
    }
   ],
   "source": [
    "raisin_predictions <- predict(knn_fit, raisin_test) |>\n",
    "  bind_cols(raisin_test)\n",
    "glimpse(raisin_predictions)"
   ]
  },
  {
   "cell_type": "code",
   "execution_count": 40,
   "id": "880e1ecf-96b4-4632-ab70-5c3196e28e28",
   "metadata": {},
   "outputs": [
    {
     "ename": "ERROR",
     "evalue": "Error in metrics(raisin_predictions, truth = Class, estimate = .pred_class): object 'raisin_predictions' not found\n",
     "output_type": "error",
     "traceback": [
      "Error in metrics(raisin_predictions, truth = Class, estimate = .pred_class): object 'raisin_predictions' not found\nTraceback:\n",
      "1. filter(metrics(raisin_predictions, truth = Class, estimate = .pred_class), \n .     .metric == \"accuracy\")",
      "2. metrics(raisin_predictions, truth = Class, estimate = .pred_class)"
     ]
    }
   ],
   "source": [
    "#check accuracy\n",
    "raisin_predictions |>\n",
    "  metrics(truth = Class, estimate = .pred_class) |>\n",
    "  filter(.metric == \"accuracy\")"
   ]
  },
  {
   "cell_type": "code",
   "execution_count": 41,
   "id": "be4db2f8-3ab9-4567-909f-57f369758de6",
   "metadata": {},
   "outputs": [
    {
     "ename": "ERROR",
     "evalue": "Error in conf_mat(raisin_predictions, truth = Class, estimate = .pred_class): object 'raisin_predictions' not found\n",
     "output_type": "error",
     "traceback": [
      "Error in conf_mat(raisin_predictions, truth = Class, estimate = .pred_class): object 'raisin_predictions' not found\nTraceback:\n",
      "1. conf_mat(raisin_predictions, truth = Class, estimate = .pred_class)"
     ]
    }
   ],
   "source": [
    "confusion_mat <- raisin_predictions |>\n",
    "             conf_mat(truth = Class, estimate = .pred_class)\n",
    "confusion_mat"
   ]
  },
  {
   "cell_type": "markdown",
   "id": "8dfcd337-ccef-4843-87bd-61912a8d185a",
   "metadata": {},
   "source": [
    "We see the accuracy of the model is about 88.50%, which is good.\n",
    "By looking at the confusion matrix, we have a closer look of our predictions. The model accurately predicted Kecimen 92.20% (n = 104/113) of the time, while it accurately predicted Besni 84.96% of the time (n = 96/113). From this information we can conclude that the model can more accurately predict Kecimen raisins than Besni raisins. \n"
   ]
  },
  {
   "cell_type": "markdown",
   "id": "1583f043-f66d-4713-8596-d39bd0ed97c5",
   "metadata": {},
   "source": [
    "### 5. Visualizations of the analysis"
   ]
  },
  {
   "cell_type": "code",
   "execution_count": 42,
   "id": "61da70c1-e1b7-4790-ad1e-39caa228e59e",
   "metadata": {},
   "outputs": [
    {
     "ename": "ERROR",
     "evalue": "Error in ggplot(raisin_predictions, aes(x = Area, y = MajorAxisLength, : object 'raisin_predictions' not found\n",
     "output_type": "error",
     "traceback": [
      "Error in ggplot(raisin_predictions, aes(x = Area, y = MajorAxisLength, : object 'raisin_predictions' not found\nTraceback:\n",
      "1. ggplot(raisin_predictions, aes(x = Area, y = MajorAxisLength, \n .     color = .pred_class))"
     ]
    }
   ],
   "source": [
    "plot2.1 <- raisin_test |>\n",
    "    ggplot(aes(x = Area, y= MajorAxisLength, color = Class))+\n",
    "    geom_point(alpha = 0.6)+\n",
    "    labs(x = \"Area\" , y = \"Major Axis Length\", color = \"True Class\",\n",
    "        subtitle = \"Area vs. Majour Axis Length\")+\n",
    "  theme(text = element_text(size = 12))\n",
    "\n",
    "plot2.2 <- raisin_predictions |>\n",
    "    ggplot(aes(x = Area, y= MajorAxisLength, color = .pred_class))+\n",
    "    geom_point(alpha = 0.6)+\n",
    "    labs(x = \"Area\" , y = \"Major Axis Length\", color = \"Predicted Class\",\n",
    "        subtitle = \"Area vs. Majour Axis Length\")+\n",
    "  theme(text = element_text(size = 12))\n"
   ]
  },
  {
   "cell_type": "code",
   "execution_count": 43,
   "id": "a209bae0-6d47-4347-89cd-f31536c37051",
   "metadata": {},
   "outputs": [
    {
     "ename": "ERROR",
     "evalue": "Error in ggplot(raisin_predictions, aes(x = Area, y = ConvexArea, color = .pred_class)): object 'raisin_predictions' not found\n",
     "output_type": "error",
     "traceback": [
      "Error in ggplot(raisin_predictions, aes(x = Area, y = ConvexArea, color = .pred_class)): object 'raisin_predictions' not found\nTraceback:\n",
      "1. ggplot(raisin_predictions, aes(x = Area, y = ConvexArea, color = .pred_class))"
     ]
    }
   ],
   "source": [
    "plot2.3 <- raisin_test |>\n",
    "    ggplot(aes(x = Area, y= ConvexArea, color = Class))+\n",
    "    geom_point(alpha = 0.6)+\n",
    "    labs(x = \"Area\" , y = \"Major Axis Length\", color = \"True Class\",\n",
    "        subtitle=\"True Area vs. Convex Area\")+\n",
    "  theme(text = element_text(size = 12))\n",
    "\n",
    "plot2.4 <- raisin_predictions |>\n",
    "    ggplot(aes(x = Area, y= ConvexArea, color = .pred_class))+\n",
    "    geom_point(alpha = 0.6)+\n",
    "    labs(x = \"Area\" , y = \"Major Axis Length\", color = \"Predicted Class\",\n",
    "        subtitle=\"Model Predicted Area vs. Convex Area\")+\n",
    "  theme(text = element_text(size = 12))\n"
   ]
  },
  {
   "cell_type": "code",
   "execution_count": 44,
   "id": "a039a6b4-109e-4ae4-95ce-a7ee8d8a0c0b",
   "metadata": {},
   "outputs": [
    {
     "ename": "ERROR",
     "evalue": "Error in ggplot(raisin_predictions, aes(x = Area, y = Perimeter, color = .pred_class)): object 'raisin_predictions' not found\n",
     "output_type": "error",
     "traceback": [
      "Error in ggplot(raisin_predictions, aes(x = Area, y = Perimeter, color = .pred_class)): object 'raisin_predictions' not found\nTraceback:\n",
      "1. ggplot(raisin_predictions, aes(x = Area, y = Perimeter, color = .pred_class))"
     ]
    }
   ],
   "source": [
    "plot2.5 <- raisin_test |>\n",
    "    ggplot(aes(x = Area, y= Perimeter, color = Class))+\n",
    "    geom_point(alpha = 0.6)+\n",
    "    labs(x = \"Area\" , y = \"Perimeter\", color = \"True Class\",\n",
    "        subtitle=\"True Area vs. Perimeter\")+\n",
    "  theme(text = element_text(size = 12))\n",
    "\n",
    "plot2.6 <- raisin_predictions |>\n",
    "    ggplot(aes(x = Area, y= Perimeter, color = .pred_class))+\n",
    "    geom_point(alpha = 0.6)+\n",
    "    labs(x = \"Area\" , y = \"Perimeter\", color = \"Predicted Class\",\n",
    "        subtitle=\"Model Predicted Area vs. Perimeter\")+\n",
    "    theme(text = element_text(size = 12))\n"
   ]
  },
  {
   "cell_type": "code",
   "execution_count": 45,
   "id": "15e586fc-b638-496a-85c1-773752a40524",
   "metadata": {},
   "outputs": [
    {
     "ename": "ERROR",
     "evalue": "Error in ggplot(raisin_predictions, aes(x = MajorAxisLength, y = ConvexArea, : object 'raisin_predictions' not found\n",
     "output_type": "error",
     "traceback": [
      "Error in ggplot(raisin_predictions, aes(x = MajorAxisLength, y = ConvexArea, : object 'raisin_predictions' not found\nTraceback:\n",
      "1. ggplot(raisin_predictions, aes(x = MajorAxisLength, y = ConvexArea, \n .     color = .pred_class))"
     ]
    }
   ],
   "source": [
    "plot2.7 <- raisin_test |>\n",
    "    ggplot(aes(x = MajorAxisLength, y= ConvexArea, color = Class))+\n",
    "    geom_point(alpha = 0.6)+\n",
    "    labs(x = \"Major Axis Length\" , y = \"Convex Area\", color = \"True Class\",\n",
    "        subtitle = \"True Major Axis Length vs. Convex Area\")+\n",
    "      theme(text = element_text(size = 12))\n",
    "\n",
    "plot2.8 <- raisin_predictions |>\n",
    "    ggplot(aes(x = MajorAxisLength, y= ConvexArea, color = .pred_class))+\n",
    "    geom_point(alpha = 0.6)+\n",
    "    labs(x = \"Major Axis Length\" , y = \"Convex area\", color = \"Predicted Class\",\n",
    "        subtitle = \"Model Predicted Major Axis Length vs. Convex Area\")+\n",
    "      theme(text = element_text(size = 12))"
   ]
  },
  {
   "cell_type": "code",
   "execution_count": 46,
   "id": "d7b65330-3f00-47d2-8877-009275e0095a",
   "metadata": {},
   "outputs": [
    {
     "ename": "ERROR",
     "evalue": "Error in ggplot(raisin_predictions, aes(x = MajorAxisLength, y = Perimeter, : object 'raisin_predictions' not found\n",
     "output_type": "error",
     "traceback": [
      "Error in ggplot(raisin_predictions, aes(x = MajorAxisLength, y = Perimeter, : object 'raisin_predictions' not found\nTraceback:\n",
      "1. ggplot(raisin_predictions, aes(x = MajorAxisLength, y = Perimeter, \n .     color = .pred_class))"
     ]
    }
   ],
   "source": [
    "plot2.9 <- raisin_test |>\n",
    "    ggplot(aes(x = MajorAxisLength, y= Perimeter, color = Class))+\n",
    "    geom_point(alpha = 0.6)+\n",
    "    labs(x = \"Major Axis Length\" , y = \"Perimeter\", color = \"True Class\",\n",
    "        subtitle = \"True Major Axis Length vs. Perimeter\")\n",
    "\n",
    "plot2.10 <- raisin_predictions |>\n",
    "    ggplot(aes(x = MajorAxisLength, y= Perimeter, color = .pred_class))+\n",
    "    geom_point(alpha = 0.6)+\n",
    "    labs(x = \"Major Axis Length\" , y = \"Perimeter\", color = \"Predicted Class\",\n",
    "        subtitle = \"Model Predicted Major Axis Length vs. Perimeter\")"
   ]
  },
  {
   "cell_type": "code",
   "execution_count": 47,
   "id": "8e8809ea-7fad-49ad-a05b-1e73254111f6",
   "metadata": {},
   "outputs": [
    {
     "ename": "ERROR",
     "evalue": "Error in ggplot(raisin_predictions, aes(x = ConvexArea, y = Perimeter, : object 'raisin_predictions' not found\n",
     "output_type": "error",
     "traceback": [
      "Error in ggplot(raisin_predictions, aes(x = ConvexArea, y = Perimeter, : object 'raisin_predictions' not found\nTraceback:\n",
      "1. ggplot(raisin_predictions, aes(x = ConvexArea, y = Perimeter, \n .     color = .pred_class))"
     ]
    }
   ],
   "source": [
    "plot2.11 <- raisin_test |>\n",
    "    ggplot(aes(x = ConvexArea, y= Perimeter, color = Class))+\n",
    "    geom_point(alpha = 0.6)+\n",
    "    labs(x = \"Convex Area\" , y = \"Perimeter\", color = \"True Class\",\n",
    "        subtitle = \"True Convex Area vs. Perimeter\")\n",
    "\n",
    "plot2.12 <- raisin_predictions |>\n",
    "    ggplot(aes(x = ConvexArea, y= Perimeter, color = .pred_class))+\n",
    "    geom_point(alpha = 0.6)+\n",
    "    labs(x = \"Convex Area\" , y = \"Perimeter\", color = \"Predicted Class\",\n",
    "        subtitle = \"Model Predicted Convex Area vs. Perimeter\")"
   ]
  },
  {
   "cell_type": "code",
   "execution_count": 48,
   "id": "7eacb7fd-d171-4d03-9fa3-a20556b3ed70",
   "metadata": {},
   "outputs": [
    {
     "ename": "ERROR",
     "evalue": "Error in plot_grid(plot2.1, plot2.2, plot2.3, plot2.4, plot2.5, plot2.6, : could not find function \"plot_grid\"\n",
     "output_type": "error",
     "traceback": [
      "Error in plot_grid(plot2.1, plot2.2, plot2.3, plot2.4, plot2.5, plot2.6, : could not find function \"plot_grid\"\nTraceback:\n"
     ]
    }
   ],
   "source": [
    "options(repr.plot.width = 15, repr.plot.height = 30)\n",
    "plot_grid(plot2.1, plot2.2,\n",
    "          plot2.3, plot2.4,\n",
    "          plot2.5, plot2.6,\n",
    "          plot2.7, plot2.8,\n",
    "          plot2.9, plot2.10,\n",
    "          plot2.11, plot2.12,\n",
    "          labels=c('a', 'b', 'c', 'd', 'e', 'f', 'g', 'h', 'i', 'j', 'k', 'l'), ncol = 2)"
   ]
  },
  {
   "cell_type": "markdown",
   "id": "0e060ab5-e4a3-4b4f-9ead-905691ef2737",
   "metadata": {},
   "source": [
    "Figure 4: Predicted and true class of raisins based on relationships between physical characteristics. Plots a, c, e, g, i, and k display the true classification of the raisins, whereas plots b, d, f, h, and l show the model predicted class of raisin. "
   ]
  },
  {
   "cell_type": "markdown",
   "id": "3f065de9-6578-4b65-a9c6-3dcf7adb4cf7",
   "metadata": {},
   "source": [
    "Based on Figure 4 we can see several interesting trends have emerged in the accuracy of the prediction model. Firstly, in there is one outlier, a Kecimen bigger than others of its type, that appeared in every plot of true class. This outlier was incorrectly classified as Besni in all instances, which makes sense due to the nature of the K nearest neighbor prediction method. Additionally, we can see that there is greater variation in the physical characteristics of Besni (based on true class) raisins as demonstrated by the data points being more spread out in all but plot (c). However it is expected that plot c is a directly linear relationship as convex area and area are not independent variables. This greater variation of Besni characteristics may be part of the raisin why the prediction model had a lesser accuracy when classifying Besni raisins compared to Kecimen raisins. "
   ]
  },
  {
   "cell_type": "markdown",
   "id": "bdd5cdf9-bf0d-428c-8a80-c2622ef5a621",
   "metadata": {},
   "source": [
    "# Discussion"
   ]
  },
  {
   "cell_type": "markdown",
   "id": "6d89ce18-b46b-454e-a4bc-e2b93c60785a",
   "metadata": {},
   "source": [
    "Our study focused on comparing two types of raisins - Besni and Kecimen. We found that the number of raisins of each type was relatively similar. However, when it came to size, there were some differences between the two types of raisins. The sizes for Besni raisins were more varied compared to Kecimen raisins. Specifically, larger raisins were classified as Besni, while smaller ones were classified as Kecimen. This suggests that size can be an important factor in distinguishing between the two types of raisins. During our initial research, we found a similar pattern, where Kecimen raisins were naturally smaller in size than Besni raisins. \n",
    "\n",
    "To classify the raisins, we used a K-nn classification model. This type of classification is impactful in the agricultural industry for ensuring quality control and product consistency. It can also be useful in research and development for new food products.\n",
    "\n",
    "Overall, the findings provide valuable insights into the differences between Besni and Kecimen raisins, and how they can be classified based on size. Through implementing this information, farmers can better manage their crops and products to ensure that they meet the desired standards of quality and consistency. Additionally, the research can aid in the development of new food products that utilize these types of raisins in different ways.\n",
    "\n",
    "This study also raises additional questions. Several additional variables may also contribute to the size variation between the two types of raisins. Comparing Besni and Kecimen raisins both grown in similar environments with controlled nutrition, soil, water, and air quality can help provide insight as to why the size disparity exists. \n"
   ]
  },
  {
   "cell_type": "markdown",
   "id": "6cfb665b-089d-4a40-9dbf-78e64bb30cef",
   "metadata": {},
   "source": [
    "# References"
   ]
  },
  {
   "cell_type": "markdown",
   "id": "4fac364f-736a-41a0-9df7-e83408ccb91f",
   "metadata": {},
   "source": [
    "Ark of Taste. (2022, December 9). Sour black grape - arca del gusto. Slow Food Foundation. Retrieved April 15, 2023, from https://www.fondazioneslowfood.com/en/ark-of-taste-slow-food/eki-kara-uzumu-sour-black-grape/ \n",
    "\n",
    "Cinar I., Koklu M. and Tasdemir S., (2020), Classification of Raisin Grains Using Machine Vision and Artificial Intelligence Methods. Gazi Journal of Engineering Sciences, vol. 6, no. 3, pp. 200-209, December, 2020\n",
    "\n",
    "Mikstas, C. (Ed.). (2023, January 5). Raisins: Are they good for you? pros and cons, nutrition information, and more. WebMD. Retrieved April 15, 2023, from https://www.ebmd.com/diet/raisins-good-for-you "
   ]
  },
  {
   "cell_type": "code",
   "execution_count": null,
   "id": "530a50b5-269a-4838-8127-920e8346da94",
   "metadata": {},
   "outputs": [],
   "source": []
  }
 ],
 "metadata": {
  "kernelspec": {
   "display_name": "R",
   "language": "R",
   "name": "ir"
  },
  "language_info": {
   "codemirror_mode": "r",
   "file_extension": ".r",
   "mimetype": "text/x-r-source",
   "name": "R",
   "pygments_lexer": "r",
   "version": "4.1.1"
  }
 },
 "nbformat": 4,
 "nbformat_minor": 5
}
